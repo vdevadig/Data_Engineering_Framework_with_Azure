{
  "cells": [
    {
      "cell_type": "code",
      "execution_count": 1,
      "metadata": {
        "colab": {
          "base_uri": "https://localhost:8080/"
        },
        "id": "XrKahDkeAkBF",
        "outputId": "7ae0464c-bb27-4ac3-91d1-6ce08d252eaf"
      },
      "outputs": [
        {
          "name": "stdout",
          "output_type": "stream",
          "text": [
            "Collecting mysql-connector-python\n",
            "  Downloading mysql_connector_python-9.4.0-cp311-cp311-manylinux_2_28_x86_64.whl.metadata (7.3 kB)\n",
            "Downloading mysql_connector_python-9.4.0-cp311-cp311-manylinux_2_28_x86_64.whl (33.9 MB)\n",
            "\u001b[2K   \u001b[90m━━━━━━━━━━━━━━━━━━━━━━━━━━━━━━━━━━━━━━━━\u001b[0m \u001b[32m33.9/33.9 MB\u001b[0m \u001b[31m48.7 MB/s\u001b[0m eta \u001b[36m0:00:00\u001b[0m\n",
            "\u001b[?25hInstalling collected packages: mysql-connector-python\n",
            "Successfully installed mysql-connector-python-9.4.0\n"
          ]
        }
      ],
      "source": [
        "!pip install mysql-connector-python"
      ]
    },
    {
      "cell_type": "code",
      "execution_count": 2,
      "metadata": {
        "colab": {
          "base_uri": "https://localhost:8080/"
        },
        "id": "3xlw8xOf_gjm",
        "outputId": "52cfdb6b-cbc6-4978-f2c9-34e26eaff993"
      },
      "outputs": [
        {
          "name": "stderr",
          "output_type": "stream",
          "text": [
            "/tmp/ipython-input-709520993.py:13: DeprecationWarning: Call to deprecated function get_server_info. Reason: \n",
            "    The property counterpart 'server_info' should be used instead.\n",
            "\n",
            "  db_Info = connection.get_server_info()\n"
          ]
        },
        {
          "name": "stdout",
          "output_type": "stream",
          "text": [
            "Connected to MySQL Server version  8.0.36-28\n",
            "You're connected to database:  ('healthdbrdbms_periodpale',)\n",
            "MySQL connection is closed\n"
          ]
        }
      ],
      "source": [
        "import mysql.connector\n",
        "from mysql.connector import Error\n",
        "\n",
        "hostname = \"j1gozd.h.filess.io\"\n",
        "database = \"healthdbrdbms_periodpale\"\n",
        "port = \"3307\"\n",
        "username = \"healthdbrdbms_periodpale\"\n",
        "password = \"91dd9ee319efa4d84881f8ec2df6f230d6486364\"\n",
        "\n",
        "try:\n",
        "    connection = mysql.connector.connect(host=hostname, database=database, user=username, password=password, port=port)\n",
        "    if connection.is_connected():\n",
        "        db_Info = connection.get_server_info()\n",
        "        print(\"Connected to MySQL Server version \", db_Info)\n",
        "        cursor = connection.cursor()\n",
        "        cursor.execute(\"select database();\")\n",
        "        record = cursor.fetchone()\n",
        "        print(\"You're connected to database: \", record)\n",
        "\n",
        "except Error as e:\n",
        "    print(\"Error while connecting to MySQL\", e)\n",
        "finally:\n",
        "    if connection.is_connected():\n",
        "        cursor.close()\n",
        "        connection.close()\n",
        "        print(\"MySQL connection is closed\")\n",
        "\n"
      ]
    },
    {
      "cell_type": "code",
      "execution_count": 5,
      "metadata": {
        "id": "Mn8OUcHBAo-t"
      },
      "outputs": [],
      "source": [
        "import pandas as pd\n",
        "\n",
        "try:\n",
        "    drugproductsunfinished = pd.read_csv('/content/Drugs_unfinished_products.csv', encoding='latin-1')\n",
        "except UnicodeDecodeError:\n",
        "    drugproductsunfinished = pd.read_csv('/content/Drugs_unfinished_products.csv', encoding='ISO-8859-1')"
      ]
    },
    {
      "cell_type": "code",
      "execution_count": 9,
      "metadata": {
        "colab": {
          "base_uri": "https://localhost:8080/",
          "height": 492
        },
        "id": "bAIR_mppA35P",
        "outputId": "7df1870c-e320-4349-89e2-38e42c290a56"
      },
      "outputs": [
        {
          "data": {
            "text/html": [
              "<div>\n",
              "<style scoped>\n",
              "    .dataframe tbody tr th:only-of-type {\n",
              "        vertical-align: middle;\n",
              "    }\n",
              "\n",
              "    .dataframe tbody tr th {\n",
              "        vertical-align: top;\n",
              "    }\n",
              "\n",
              "    .dataframe thead th {\n",
              "        text-align: right;\n",
              "    }\n",
              "</style>\n",
              "<table border=\"1\" class=\"dataframe\">\n",
              "  <thead>\n",
              "    <tr style=\"text-align: right;\">\n",
              "      <th></th>\n",
              "      <th>0</th>\n",
              "    </tr>\n",
              "  </thead>\n",
              "  <tbody>\n",
              "    <tr>\n",
              "      <th>PRODUCTID</th>\n",
              "      <td>object</td>\n",
              "    </tr>\n",
              "    <tr>\n",
              "      <th>PRODUCTNDC</th>\n",
              "      <td>object</td>\n",
              "    </tr>\n",
              "    <tr>\n",
              "      <th>PRODUCTTYPENAME</th>\n",
              "      <td>object</td>\n",
              "    </tr>\n",
              "    <tr>\n",
              "      <th>NONPROPRIETARYNAME</th>\n",
              "      <td>object</td>\n",
              "    </tr>\n",
              "    <tr>\n",
              "      <th>DOSAGEFORMNAME</th>\n",
              "      <td>object</td>\n",
              "    </tr>\n",
              "    <tr>\n",
              "      <th>STARTMARKETINGDATE</th>\n",
              "      <td>float64</td>\n",
              "    </tr>\n",
              "    <tr>\n",
              "      <th>ENDMARKETINGDATE</th>\n",
              "      <td>float64</td>\n",
              "    </tr>\n",
              "    <tr>\n",
              "      <th>MARKETINGCATEGORYNAME</th>\n",
              "      <td>object</td>\n",
              "    </tr>\n",
              "    <tr>\n",
              "      <th>LABELERNAME</th>\n",
              "      <td>object</td>\n",
              "    </tr>\n",
              "    <tr>\n",
              "      <th>SUBSTANCENAME</th>\n",
              "      <td>object</td>\n",
              "    </tr>\n",
              "    <tr>\n",
              "      <th>ACTIVE_NUMERATOR_STRENGTH</th>\n",
              "      <td>object</td>\n",
              "    </tr>\n",
              "    <tr>\n",
              "      <th>ACTIVE_INGRED_UNIT</th>\n",
              "      <td>object</td>\n",
              "    </tr>\n",
              "    <tr>\n",
              "      <th>DEASCHEDULE</th>\n",
              "      <td>object</td>\n",
              "    </tr>\n",
              "  </tbody>\n",
              "</table>\n",
              "</div><br><label><b>dtype:</b> object</label>"
            ],
            "text/plain": [
              "PRODUCTID                     object\n",
              "PRODUCTNDC                    object\n",
              "PRODUCTTYPENAME               object\n",
              "NONPROPRIETARYNAME            object\n",
              "DOSAGEFORMNAME                object\n",
              "STARTMARKETINGDATE           float64\n",
              "ENDMARKETINGDATE             float64\n",
              "MARKETINGCATEGORYNAME         object\n",
              "LABELERNAME                   object\n",
              "SUBSTANCENAME                 object\n",
              "ACTIVE_NUMERATOR_STRENGTH     object\n",
              "ACTIVE_INGRED_UNIT            object\n",
              "DEASCHEDULE                   object\n",
              "dtype: object"
            ]
          },
          "execution_count": 9,
          "metadata": {},
          "output_type": "execute_result"
        }
      ],
      "source": [
        "drugproductsunfinished.dtypes"
      ]
    },
    {
      "cell_type": "code",
      "execution_count": 26,
      "metadata": {
        "colab": {
          "base_uri": "https://localhost:8080/"
        },
        "id": "kgeOUZqWDpSm",
        "outputId": "bcaf5dc8-c8f7-4efa-9c29-c051e0087c25"
      },
      "outputs": [
        {
          "data": {
            "text/plain": [
              "(19042, 13)"
            ]
          },
          "execution_count": 26,
          "metadata": {},
          "output_type": "execute_result"
        }
      ],
      "source": [
        "drugproductsunfinished.shape"
      ]
    },
    {
      "cell_type": "code",
      "execution_count": 25,
      "metadata": {
        "colab": {
          "base_uri": "https://localhost:8080/"
        },
        "id": "l_OxQSkMBSE_",
        "outputId": "c4bd81d3-e7f3-47bf-8155-0c67f89af703"
      },
      "outputs": [
        {
          "name": "stdout",
          "output_type": "stream",
          "text": [
            "Table Dropped\n",
            "Creating New Table\n",
            "Table Created\n",
            "Inserting Data into df\n",
            "Data Loaded into df\n",
            "Starting insertion\n",
            "500 records inserted\n",
            "1000 records inserted\n",
            "1500 records inserted\n",
            "2000 records inserted\n",
            "2500 records inserted\n",
            "3000 records inserted\n",
            "3500 records inserted\n",
            "4000 records inserted\n",
            "4500 records inserted\n",
            "5000 records inserted\n",
            "5500 records inserted\n",
            "6000 records inserted\n",
            "6500 records inserted\n",
            "7000 records inserted\n",
            "7500 records inserted\n",
            "8000 records inserted\n",
            "8500 records inserted\n",
            "9000 records inserted\n",
            "9500 records inserted\n",
            "10000 records inserted\n",
            "10500 records inserted\n",
            "11000 records inserted\n",
            "11500 records inserted\n",
            "12000 records inserted\n",
            "12500 records inserted\n",
            "13000 records inserted\n",
            "13500 records inserted\n",
            "14000 records inserted\n",
            "14500 records inserted\n",
            "15000 records inserted\n",
            "15500 records inserted\n",
            "16000 records inserted\n",
            "16500 records inserted\n",
            "17000 records inserted\n",
            "17500 records inserted\n",
            "18000 records inserted\n",
            "18500 records inserted\n",
            "19000 records inserted\n",
            "19500 records inserted\n",
            "Connection Closed\n"
          ]
        }
      ],
      "source": [
        "import mysql.connector\n",
        "from mysql.connector import Error\n",
        "\n",
        "hostname = \"j1gozd.h.filess.io\"\n",
        "database = \"healthdbrdbms_periodpale\"\n",
        "port = \"3307\"\n",
        "username = \"healthdbrdbms_periodpale\"\n",
        "password = \"91dd9ee319efa4d84881f8ec2df6f230d6486364\"\n",
        "\n",
        "csv = \"/content/Drugs_unfinished_products.csv\"\n",
        "table = \"Drugs_unfinished_products\"\n",
        "\n",
        "try:\n",
        "    connection = mysql.connector.connect(host=hostname, database=database, user=username, password=password, port=port)\n",
        "    if connection.is_connected():\n",
        "        cursor = connection.cursor()\n",
        "        cursor.execute(f\"DROP TABLE IF EXISTS {table};\")\n",
        "        print(\"Table Dropped\")\n",
        "        print(\"Creating New Table\")\n",
        "        new_table =  f\"\"\"\n",
        "        CREATE TABLE {table} (\n",
        "            PRODUCTID varchar(200),\n",
        "            PRODUCTNDC varchar(200),\n",
        "            PRODUCTTYPENAME varchar(500),\n",
        "            NONPROPRIETARYNAME TEXT,\n",
        "            DOSAGEFORMNAME varchar(500),\n",
        "            STARTMARKETINGDATE DOUBLE,\n",
        "            ENDMARKETINGDATE\tDOUBLE,\n",
        "            MARKETINGCATEGORYNAME\tVARCHAR(500),\n",
        "            LABELERNAME\tvarchar(500),\n",
        "            SUBSTANCENAME\tTEXT,\n",
        "            ACTIVE_NUMERATOR_STRENGTH\tTEXT,\n",
        "            ACTIVE_INGRED_UNIT\tTEXT,\n",
        "            DEASCHEDULE varchar(500)\n",
        "            );\n",
        "            \"\"\"\n",
        "        cursor.execute(new_table)\n",
        "        print(\"Table Created\")\n",
        "        print(\"Inserting Data into df\")\n",
        "        try:\n",
        "          data = pd.read_csv('/content/Drugs_unfinished_products.csv', encoding='latin-1')\n",
        "        except UnicodeDecodeError:\n",
        "          data = pd.read_csv('/content/Drugs_unfinished_products.csv', encoding='ISO-8859-1')\n",
        "        print(\"Data Loaded into df\")\n",
        "\n",
        "        batch = 500\n",
        "        records = len(data)\n",
        "\n",
        "        print(\"Starting insertion\")\n",
        "        for i in range(0, records, batch):\n",
        "          j = i+batch\n",
        "          b = data.iloc[i:j]\n",
        "\n",
        "          batch_recs = [tuple(row) for row in b.itertuples(index=False, name = None)]\n",
        "\n",
        "          insert = f\"\"\"\n",
        "          INSERT INTO {table}\n",
        "          (PRODUCTID, PRODUCTNDC, PRODUCTTYPENAME, NONPROPRIETARYNAME,\n",
        "          DOSAGEFORMNAME, STARTMARKETINGDATE, ENDMARKETINGDATE,\n",
        "          MARKETINGCATEGORYNAME, LABELERNAME, SUBSTANCENAME,\n",
        "          ACTIVE_NUMERATOR_STRENGTH, ACTIVE_INGRED_UNIT,\n",
        "          DEASCHEDULE)\n",
        "          VALUES (%s, %s, %s, %s, %s, %s, %s, %s, %s, %s, %s, %s, %s)\n",
        "          \"\"\"\n",
        "          cursor.executemany(insert, batch_recs)\n",
        "          connection.commit()\n",
        "          print(f\"{j} records inserted\")\n",
        "\n",
        "except Error as e:\n",
        "    print(\"Error while connecting to MySQL\", e)\n",
        "finally:\n",
        "    if connection.is_connected():\n",
        "        cursor.close()\n",
        "        connection.close()\n",
        "        print(\"Connection Closed\")\n",
        "\n",
        "\n",
        "\n",
        "\n"
      ]
    },
    {
      "cell_type": "code",
      "execution_count": 1,
      "metadata": {
        "colab": {
          "base_uri": "https://localhost:8080/"
        },
        "id": "7WSH3-qtUjCT",
        "outputId": "f83b0688-3d24-4e8d-d113-06e2e5274815"
      },
      "outputs": [
        {
          "name": "stdout",
          "output_type": "stream",
          "text": [
            "Collecting pymongo\n",
            "  Downloading pymongo-4.14.0-cp311-cp311-manylinux_2_17_x86_64.manylinux2014_x86_64.whl.metadata (22 kB)\n",
            "Collecting dnspython<3.0.0,>=1.16.0 (from pymongo)\n",
            "  Downloading dnspython-2.7.0-py3-none-any.whl.metadata (5.8 kB)\n",
            "Downloading pymongo-4.14.0-cp311-cp311-manylinux_2_17_x86_64.manylinux2014_x86_64.whl (1.4 MB)\n",
            "\u001b[2K   \u001b[90m━━━━━━━━━━━━━━━━━━━━━━━━━━━━━━━━━━━━━━━━\u001b[0m \u001b[32m1.4/1.4 MB\u001b[0m \u001b[31m8.2 MB/s\u001b[0m eta \u001b[36m0:00:00\u001b[0m\n",
            "\u001b[?25hDownloading dnspython-2.7.0-py3-none-any.whl (313 kB)\n",
            "\u001b[2K   \u001b[90m━━━━━━━━━━━━━━━━━━━━━━━━━━━━━━━━━━━━━━━━\u001b[0m \u001b[32m313.6/313.6 kB\u001b[0m \u001b[31m22.3 MB/s\u001b[0m eta \u001b[36m0:00:00\u001b[0m\n",
            "\u001b[?25hInstalling collected packages: dnspython, pymongo\n",
            "Successfully installed dnspython-2.7.0 pymongo-4.14.0\n"
          ]
        }
      ],
      "source": [
        "!pip install pymongo"
      ]
    },
    {
      "cell_type": "code",
      "execution_count": 2,
      "metadata": {
        "id": "USCMtkTxFwOG"
      },
      "outputs": [],
      "source": [
        "from pymongo import MongoClient\n",
        "\n",
        "hostname = \"eshm34.h.filess.io\"\n",
        "database = \"Healthdbnosql_mainwecard\"\n",
        "port = \"61004\"\n",
        "username = \"Healthdbnosql_mainwecard\"\n",
        "password = \"0a5fb90224ef6634f3ada1741f7871b98bdb12e9\"\n",
        "\n",
        "uri = \"mongodb://\" + username + \":\" + password + \"@\" + hostname + \":\" + port + \"/\" + database\n",
        "\n",
        "client = MongoClient(uri)\n",
        "\n",
        "mydatabase = client[database]\n"
      ]
    },
    {
      "cell_type": "code",
      "execution_count": null,
      "metadata": {
        "id": "kdvs5cYjVDl5"
      },
      "outputs": [],
      "source": []
    },
    {
      "cell_type": "code",
      "execution_count": 3,
      "metadata": {
        "colab": {
          "base_uri": "https://localhost:8080/"
        },
        "id": "f43017ec",
        "outputId": "b695348e-62eb-4b9c-ab4f-0d60efe9e9b1"
      },
      "outputs": [
        {
          "name": "stdout",
          "output_type": "stream",
          "text": [
            "Inserted 13 documents into the 'condition_keyword_map' collection.\n"
          ]
        }
      ],
      "source": [
        "import pandas as pd\n",
        "\n",
        "try:\n",
        "    condition_keyword_df = pd.read_csv('/content/condition_keyword_map.csv', encoding='utf-8')\n",
        "except UnicodeDecodeError:\n",
        "    condition_keyword_df = pd.read_csv('/content/condition_keyword_map.csv', encoding='latin-1')\n",
        "\n",
        "\n",
        "data_to_insert = condition_keyword_df.to_dict('records')\n",
        "\n",
        "mycollection = mydatabase['condition_keyword_map']\n",
        "\n",
        "insert_res = mycollection.insert_many(data_to_insert)\n",
        "\n",
        "print(f\"Inserted {len(insert_res.inserted_ids)} documents into the 'condition_keyword_map' collection.\")"
      ]
    }
  ],
  "metadata": {
    "colab": {
      "provenance": []
    },
    "kernelspec": {
      "display_name": "Python 3",
      "name": "python3"
    },
    "language_info": {
      "name": "python"
    }
  },
  "nbformat": 4,
  "nbformat_minor": 0
}
